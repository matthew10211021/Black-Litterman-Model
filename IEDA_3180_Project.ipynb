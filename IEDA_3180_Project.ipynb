{
  "nbformat": 4,
  "nbformat_minor": 0,
  "metadata": {
    "colab": {
      "provenance": []
    },
    "kernelspec": {
      "name": "python3",
      "display_name": "Python 3"
    },
    "language_info": {
      "name": "python"
    }
  },
  "cells": [
    {
      "cell_type": "markdown",
      "source": [
        "# Black-Litterman Model: Generating views with ARMA & Monte-Carlo Simulation"
      ],
      "metadata": {
        "id": "vWmJ87_-YSgt"
      }
    },
    {
      "cell_type": "code",
      "execution_count": 75,
      "metadata": {
        "id": "xa3xmWNUYImS"
      },
      "outputs": [],
      "source": [
        "import pandas as pd\n",
        "import numpy as np\n",
        "import cvxpy as cp\n",
        "import matplotlib.pyplot as plt\n",
        "from pandas_datareader import data as pdr\n",
        "import yfinance as yf\n",
        "yf.pdr_override()\n",
        "import statsmodels.api as sm\n",
        "from statsmodels.tsa.arima.model import ARIMA\n",
        "\n",
        "# disable the convergence warning for poor ARIMA fit\n",
        "import warnings\n",
        "warnings.filterwarnings(\"ignore\")\n",
        "\n",
        "import empyrical as emp"
      ]
    },
    {
      "cell_type": "markdown",
      "source": [
        "## A. Loading data and train-test split"
      ],
      "metadata": {
        "id": "si9b6p5Ub-jm"
      }
    },
    {
      "cell_type": "code",
      "source": [
        "# load stocks\n",
        "stock_names = ['AAPL', 'AMZN', 'GOOGL', 'META', 'MSFT', 'NFLX', 'NVDA', 'TSLA']\n",
        "N = len(stock_names)\n",
        "prices = pdr.get_data_yahoo(stock_names, start=\"2018-01-02\", end=\"2020-01-04\")['Adj Close']\n",
        "\n",
        "prices_mat = np.asarray(prices)\n",
        "X_log = np.diff(np.log(prices_mat), axis=0)\n",
        "X_lin = np.diff(prices_mat, axis=0) / prices_mat[:-1]\n",
        "T, N = X_log.shape\n",
        "\n",
        "# train test split\n",
        "no_train = int(T * 0.5)\n",
        "X_log_train = X_log[:no_train,]\n",
        "X_log_test = X_log[no_train:,]\n",
        "X_lin_train = X_lin[:no_train,]\n",
        "X_lin_test = X_lin[no_train:,]\n",
        "\n",
        "# validation set for ARMA parameters from the train set\n",
        "no_validate = int(no_train * 0.2)\n",
        "X_log_validate_train = X_log_train[:no_train - no_validate]\n",
        "X_log_validate = X_log_train[no_train - no_validate:]\n",
        "X_lin_validate_train = X_lin_train[:no_train - no_validate]\n",
        "X_log_validate = X_lin_train[no_train - no_validate:]"
      ],
      "metadata": {
        "colab": {
          "base_uri": "https://localhost:8080/"
        },
        "id": "8mu-v2n_0ZAH",
        "outputId": "87d6cdc8-8afe-46f5-88e1-b5f0e331704e"
      },
      "execution_count": 5,
      "outputs": [
        {
          "output_type": "stream",
          "name": "stderr",
          "text": [
            "[*********************100%%**********************]  8 of 8 completed\n"
          ]
        }
      ]
    },
    {
      "cell_type": "markdown",
      "source": [
        "## B. Determining optimal parameters for ARMA fit"
      ],
      "metadata": {
        "id": "UAurSc1xcEDr"
      }
    },
    {
      "cell_type": "code",
      "source": [
        "optimal_arma_params = {}\n",
        "\n",
        "# grid search for p in [0, 4] and q in [0, 4] for the best params based on the train and validation set\n",
        "# judgement of performance is based on MSE\n",
        "for i in range(N):\n",
        "  stock = stock_names[i]\n",
        "\n",
        "  # retrieve the train and validate returns for the stock\n",
        "  validate_train = X_log_validate_train[:, i]\n",
        "  validate = X_log_validate[:, i]\n",
        "\n",
        "  best_p, best_q = 0, 0\n",
        "  min_MSE = float('inf')\n",
        "\n",
        "  for p in range(5):\n",
        "    for q in range(5):\n",
        "      fitted_model = ARIMA(validate_train, order=(p, 0, q), trend='c').fit()\n",
        "      model_forecast = fitted_model.forecast(steps=len(validate))\n",
        "      difference = np.array(validate - model_forecast)\n",
        "      MSE = np.linalg.norm(difference)**2 / T\n",
        "\n",
        "      # potentially update best_p, best_q, and min_MSE\n",
        "      if MSE < min_MSE:\n",
        "        min_MSE = MSE\n",
        "        best_p = p\n",
        "        best_q = q\n",
        "\n",
        "    optimal_arma_params[stock] = (best_p, best_q)\n",
        "\n",
        "optimal_arma_params"
      ],
      "metadata": {
        "colab": {
          "base_uri": "https://localhost:8080/"
        },
        "id": "639QvyTEZrjH",
        "outputId": "8422cd8d-4450-4f76-f1e7-8255cc8dc37d"
      },
      "execution_count": 6,
      "outputs": [
        {
          "output_type": "execute_result",
          "data": {
            "text/plain": [
              "{'AAPL': (3, 4),\n",
              " 'AMZN': (2, 4),\n",
              " 'GOOGL': (2, 2),\n",
              " 'META': (3, 2),\n",
              " 'MSFT': (3, 3),\n",
              " 'NFLX': (4, 4),\n",
              " 'NVDA': (3, 3),\n",
              " 'TSLA': (3, 4)}"
            ]
          },
          "metadata": {},
          "execution_count": 6
        }
      ]
    },
    {
      "cell_type": "markdown",
      "source": [
        "## C. Fitting ARMA based on optimal parameters obtained"
      ],
      "metadata": {
        "id": "B2X7LhgocI1M"
      }
    },
    {
      "cell_type": "code",
      "source": [
        "ARMA_forecast = {}\n",
        "\n",
        "for i in range(N):\n",
        "  stock = stock_names[i]\n",
        "  opt_p, opt_q = optimal_arma_params[stock]\n",
        "  full_train = X_log_train[:, i]\n",
        "\n",
        "  # fit ARMA based on the optimal params\n",
        "  # predict returns of 21-days ahead\n",
        "  fitted_model = ARIMA(full_train, order=(opt_p, 0, opt_q), trend='c').fit()\n",
        "  model_forecast = fitted_model.forecast(steps=21)[-1]\n",
        "  ARMA_forecast[stock] = model_forecast\n",
        "\n",
        "ARMA_forecast"
      ],
      "metadata": {
        "colab": {
          "base_uri": "https://localhost:8080/"
        },
        "id": "IaAAdFEgcURJ",
        "outputId": "ec7ab33a-beba-4dcb-ce70-35b9c7318c10"
      },
      "execution_count": 7,
      "outputs": [
        {
          "output_type": "execute_result",
          "data": {
            "text/plain": [
              "{'AAPL': 0.0008902139728065171,\n",
              " 'AMZN': 0.0009148877565231486,\n",
              " 'GOOGL': 0.0017690296502717686,\n",
              " 'META': -0.0012760136518959048,\n",
              " 'MSFT': 0.004600820806724913,\n",
              " 'NFLX': 0.001108848546311473,\n",
              " 'NVDA': -0.00191109163987963,\n",
              " 'TSLA': -0.0003772810494743478}"
            ]
          },
          "metadata": {},
          "execution_count": 7
        }
      ]
    },
    {
      "cell_type": "markdown",
      "source": [
        "We only keep the tickers with non-negative predicted returns, and further proceed for Monte-Carlo Simulation for those stocks."
      ],
      "metadata": {
        "id": "YBuvf_aFeS9w"
      }
    },
    {
      "cell_type": "code",
      "source": [
        "positive_stock_names = []\n",
        "\n",
        "for key, val in ARMA_forecast.items():\n",
        "  if val > 0: positive_stock_names.append(key)\n",
        "\n",
        "positive_stock_names"
      ],
      "metadata": {
        "colab": {
          "base_uri": "https://localhost:8080/"
        },
        "id": "WRmTlexmeiiU",
        "outputId": "1dbd1159-16ec-4ae0-a436-1dff9d07c34d"
      },
      "execution_count": 8,
      "outputs": [
        {
          "output_type": "execute_result",
          "data": {
            "text/plain": [
              "['AAPL', 'AMZN', 'GOOGL', 'MSFT', 'NFLX']"
            ]
          },
          "metadata": {},
          "execution_count": 8
        }
      ]
    },
    {
      "cell_type": "markdown",
      "source": [
        "## D. Monte-Carlo Simulation for views generation"
      ],
      "metadata": {
        "id": "oq8EeJqaekTk"
      }
    },
    {
      "cell_type": "code",
      "source": [
        "start_prices = {}\n",
        "for stock in positive_stock_names:\n",
        "  start_prices[stock] = prices.iloc[no_train][stock]"
      ],
      "metadata": {
        "id": "R02_4SgtpJS0"
      },
      "execution_count": 9,
      "outputs": []
    },
    {
      "cell_type": "code",
      "source": [
        "def GeometricBrownianMotion(T, nSteps, nPaths, X0 = 1 , mu = 1, sigma = 0.25):\n",
        "  dt = T / nSteps\n",
        "  X = np.zeros((nPaths, nSteps))\n",
        "  X[:,0] = X0\n",
        "  for i in range(nSteps-1):\n",
        "    X[:,i+1] = X[:,i] * np.exp((mu -0.5*sigma**2)*dt + sigma*np.sqrt(dt)*np.random.randn(nPaths))\n",
        "  return X\n",
        "\n",
        "steps = 10000\n",
        "paths = 10000\n",
        "final_prices = {}  # record the final prices after 1 year\n",
        "\n",
        "for stock in positive_stock_names:\n",
        "  S0 = start_prices[stock]\n",
        "  mu = 365 * np.log(np.exp(ARMA_forecast[stock]))\n",
        "  stock_paths = GeometricBrownianMotion(1, steps, paths, S0, mu)\n",
        "  final_prices[stock] = stock_paths[:, -1]"
      ],
      "metadata": {
        "id": "rVVmDAbMkHZz"
      },
      "execution_count": 10,
      "outputs": []
    },
    {
      "cell_type": "markdown",
      "source": [
        "For the generated final prices, we only keep those that are greater than the start price, since we predicted a positive return.<br>\n",
        "Next, we calculate the expected return and the corresponding variance."
      ],
      "metadata": {
        "id": "Vrh2aYA7qffX"
      }
    },
    {
      "cell_type": "code",
      "source": [
        "positive_stock_mu = {}\n",
        "positive_stock_var = {}\n",
        "\n",
        "for stock in positive_stock_names:\n",
        "  kept_prices = final_prices[stock][final_prices[stock] > start_prices[stock]]\n",
        "  log_returns = np.log((final_prices[stock][final_prices[stock] > start_prices[stock]] / start_prices[stock]) ** (1 / 365))\n",
        "  positive_stock_mu[stock] = log_returns.mean()\n",
        "  positive_stock_var[stock] = log_returns.var()"
      ],
      "metadata": {
        "id": "s4Su46TOpVvt"
      },
      "execution_count": 18,
      "outputs": []
    },
    {
      "cell_type": "markdown",
      "source": [
        "## E. Black-Litterman Estimation"
      ],
      "metadata": {
        "id": "-YFvuluwueAL"
      }
    },
    {
      "cell_type": "markdown",
      "source": [
        "Based on the calculated mean and variance, we are ready to specify $\\mathbf{P}$, $\\mathbf{v}$, and $\\boldsymbol{\\Omega}$ in the Black-Litterman Model.<br>\n",
        "Also, recall the formula for the Black-Litterman Estimators:<br>\n",
        "$\\boldsymbol{\\mu_{BL}} = \\mathbf{m} + \\tau \\boldsymbol{\\Sigma} \\mathbf{P}^T (\\tau \\mathbf{P} \\boldsymbol{\\Sigma} \\mathbf{P}^T + \\boldsymbol{\\Omega})^{-1} (\\mathbf{v} - \\mathbf{P} \\mathbf{m})$<br>\n",
        "$\\boldsymbol{\\Sigma_{BL}} = (1 + \\tau)\\boldsymbol{\\Sigma} - \\tau^2 \\boldsymbol{\\Sigma} \\mathbf{P}^T (\\tau \\mathbf{P} \\boldsymbol{\\Sigma} \\mathbf{P}^T + \\boldsymbol{\\Omega})^{-1} \\mathbf{P} \\boldsymbol{\\Sigma}$<br>"
      ],
      "metadata": {
        "id": "HYppVAbmvZai"
      }
    },
    {
      "cell_type": "code",
      "source": [
        "N_pos_stocks = len(positive_stock_names)\n",
        "P = np.eye(N_pos_stocks)\n",
        "v = np.array([positive_stock_mu[stock] for stock in positive_stock_names])\n",
        "Omega = np.diag([positive_stock_var[stock] for stock in positive_stock_names])\n",
        "\n",
        "# specify m and Sigma based on sample estimator\n",
        "pos_stock_X_log_train = X_log_train[:, [stock_names.index(stock) for stock in positive_stock_names]]\n",
        "m = np.mean(pos_stock_X_log_train, axis=0)\n",
        "Sigma = np.cov(pos_stock_X_log_train.T)\n",
        "\n",
        "tau = 1 / no_train"
      ],
      "metadata": {
        "id": "2yic12kmvaEp"
      },
      "execution_count": 87,
      "outputs": []
    },
    {
      "cell_type": "code",
      "source": [
        "mu_BL = m + tau * Sigma @ P.T @ np.linalg.inv(tau * (P @ Sigma @ P.T) + Omega) @ (v - P @ m)\n",
        "Sigma_BL = (1 + tau) * Sigma - (tau**2) * (Sigma @ P.T) @ np.linalg.inv(tau * (P @ Sigma @ P.T) + Omega) @ (P @ Sigma)"
      ],
      "metadata": {
        "id": "O21j7VeWy_9h"
      },
      "execution_count": 88,
      "outputs": []
    },
    {
      "cell_type": "markdown",
      "source": [
        "## F. Portfolio Optimization and comparison among portfolios"
      ],
      "metadata": {
        "id": "cwS_bj_5uiXi"
      }
    },
    {
      "cell_type": "code",
      "source": [
        "# max Sharpe portfolio\n",
        "def compute_MSRP(mu, Sigma):\n",
        "  w = cp.Variable(len(mu))\n",
        "  variance = cp.quad_form(w, Sigma)\n",
        "  problem = cp.Problem(cp.Minimize(variance), [w >= 0, w @ mu == 1])\n",
        "  problem.solve()\n",
        "  return w.value/np.sum(w.value)\n",
        "\n",
        "# global min variance portfolio\n",
        "def compute_GMVP(Sigma):\n",
        "    w = cp.Variable(np.shape(Sigma)[0])\n",
        "    variance = cp.quad_form(w, Sigma)\n",
        "    problem = cp.Problem(cp.Minimize(variance),\n",
        "                         [w >= 0, cp.sum(w) == 1])\n",
        "    problem.solve()\n",
        "    return w.value\n",
        "\n",
        "# mean-CVaR portfolio\n",
        "def compute_portfolioCVaR(X, lmd = 0.5, alpha = 0.95):\n",
        "  T, N = np.shape(X)\n",
        "  mu = np.mean(X, axis=0)\n",
        "  w = cp.Variable(N)\n",
        "  z = cp.Variable(T)\n",
        "  zeta = cp.Variable(1)\n",
        "  problem = cp.Problem(cp.Maximize(w @ mu - lmd*zeta - (lmd/(T*(1-alpha))) * cp.sum(z)),\n",
        "                         [z >= 0, z >= - X @ w - zeta, w >= 0, cp.sum(w) == 1])\n",
        "  problem.solve()\n",
        "  return w.value\n",
        "\n",
        "# mean Max-DD portfolio\n",
        "def compute_portfolioMaxDD(X, c = 0.2):\n",
        "  T, N = np.shape(X)\n",
        "  X_cum = np.cumsum(X, axis=1)\n",
        "  mu = np.mean(X, axis=0)\n",
        "  # variables\n",
        "  w = cp.Variable(N)\n",
        "  u = cp.Variable(T)\n",
        "  # problem\n",
        "  prob = cp.Problem(cp.Maximize(w @ mu),\n",
        "                    [w >= 0, cp.sum(w) == 1,\n",
        "                     u <= X_cum @ w + c,\n",
        "                     u >= X_cum @ w,\n",
        "                     u[1:] >= u[:-1]])\n",
        "  result = prob.solve()\n",
        "  return w.value"
      ],
      "metadata": {
        "id": "sG3JPfBf6Nxb"
      },
      "execution_count": 100,
      "outputs": []
    },
    {
      "cell_type": "code",
      "source": [
        "weights_EWP = np.ones(N) / N\n",
        "weights_MSRP = compute_MSRP(X_log_train.mean(axis=0), np.cov(X_log_train.T))\n",
        "weights_GMVP = compute_GMVP(np.cov(X_log_train.T))\n",
        "weights_CVAR = compute_portfolioCVaR(X_log_train)\n",
        "weights_DD = compute_portfolioMaxDD(X_log_train, c = 0.24)\n",
        "weights_BL = list(compute_MSRP(mu_BL, Sigma_BL))\n",
        "\n",
        "# append zeros to the stocks no used in weights_BL\n",
        "for i in range(N):\n",
        "  stock = stock_names[i]\n",
        "  if stock not in positive_stock_names: weights_BL.insert(i, 0)"
      ],
      "metadata": {
        "id": "-r7j8let-DyK"
      },
      "execution_count": 101,
      "outputs": []
    },
    {
      "cell_type": "code",
      "source": [
        "portfolios = pd.DataFrame(np.column_stack([weights_EWP, weights_MSRP, weights_GMVP, weights_CVAR, weights_DD, weights_BL]),\n",
        "                          columns=[\"EWP\", \"MSRP\", \"GMVP\", \"mean-CVaR\", \"mean-max DD\", \"BL\"], index=stock_names)"
      ],
      "metadata": {
        "id": "Qqwo2S4QCKX6"
      },
      "execution_count": 102,
      "outputs": []
    },
    {
      "cell_type": "code",
      "source": [
        "ret_all = X_lin @ portfolios\n",
        "ret_all_trn = ret_all.iloc[:no_train, ]\n",
        "ret_all_tst = ret_all.iloc[no_train:, ]\n",
        "\n",
        "# compute performance measures\n",
        "res = pd.DataFrame({\n",
        "    \"Sharpe ratio (in-sample)\":      ret_all_trn.apply(emp.sharpe_ratio).apply(lambda x: f\"{x:.3}\"),\n",
        "    \"Sharpe ratio (out-of-sample)\":  ret_all_tst.apply(emp.sharpe_ratio).apply(lambda x: f\"{x:.3}\"),\n",
        "    \"Annual return (in-sample)\":     ret_all_trn.apply(emp.annual_return).apply(lambda x: f\"{x:.2%}\"),\n",
        "    \"Annual return (out-of-sample)\": ret_all_tst.apply(emp.annual_return).apply(lambda x: f\"{x:.2%}\"),\n",
        "    \"Annual volatility (in-sample)\": ret_all_trn.apply(emp.annual_volatility).apply(lambda x: f\"{x:.2%}\"),\n",
        "    \"Annual volatility (out-of-sample)\":\n",
        "                                     ret_all_tst.apply(emp.annual_volatility).apply(lambda x: f\"{x:.2%}\"),\n",
        "})\n",
        "res"
      ],
      "metadata": {
        "colab": {
          "base_uri": "https://localhost:8080/",
          "height": 272
        },
        "id": "vlz1dJicCW7t",
        "outputId": "9c80477b-bd60-4477-cbc3-4f0506ba2988"
      },
      "execution_count": 104,
      "outputs": [
        {
          "output_type": "execute_result",
          "data": {
            "text/plain": [
              "            Sharpe ratio (in-sample) Sharpe ratio (out-of-sample)  \\\n",
              "EWP                            0.123                         2.21   \n",
              "MSRP                           0.918                         0.99   \n",
              "GMVP                         -0.0296                         2.75   \n",
              "mean-CVaR                      0.237                         2.25   \n",
              "mean-max DD                    0.381                         2.26   \n",
              "BL                             0.641                         2.67   \n",
              "\n",
              "            Annual return (in-sample) Annual return (out-of-sample)  \\\n",
              "EWP                            -0.78%                        57.29%   \n",
              "MSRP                           31.71%                        24.07%   \n",
              "GMVP                           -4.06%                        66.30%   \n",
              "mean-CVaR                       2.80%                        52.37%   \n",
              "mean-max DD                     7.26%                        57.09%   \n",
              "BL                             15.28%                        65.26%   \n",
              "\n",
              "            Annual volatility (in-sample) Annual volatility (out-of-sample)  \n",
              "EWP                                29.90%                            21.61%  \n",
              "MSRP                               37.81%                            24.90%  \n",
              "GMVP                               25.98%                            19.18%  \n",
              "mean-CVaR                          27.37%                            19.59%  \n",
              "mean-max DD                        30.76%                            20.99%  \n",
              "BL                                 28.46%                            19.56%  "
            ],
            "text/html": [
              "\n",
              "  <div id=\"df-e0ae7ff4-eb2e-4d77-966c-78658e64c2e0\" class=\"colab-df-container\">\n",
              "    <div>\n",
              "<style scoped>\n",
              "    .dataframe tbody tr th:only-of-type {\n",
              "        vertical-align: middle;\n",
              "    }\n",
              "\n",
              "    .dataframe tbody tr th {\n",
              "        vertical-align: top;\n",
              "    }\n",
              "\n",
              "    .dataframe thead th {\n",
              "        text-align: right;\n",
              "    }\n",
              "</style>\n",
              "<table border=\"1\" class=\"dataframe\">\n",
              "  <thead>\n",
              "    <tr style=\"text-align: right;\">\n",
              "      <th></th>\n",
              "      <th>Sharpe ratio (in-sample)</th>\n",
              "      <th>Sharpe ratio (out-of-sample)</th>\n",
              "      <th>Annual return (in-sample)</th>\n",
              "      <th>Annual return (out-of-sample)</th>\n",
              "      <th>Annual volatility (in-sample)</th>\n",
              "      <th>Annual volatility (out-of-sample)</th>\n",
              "    </tr>\n",
              "  </thead>\n",
              "  <tbody>\n",
              "    <tr>\n",
              "      <th>EWP</th>\n",
              "      <td>0.123</td>\n",
              "      <td>2.21</td>\n",
              "      <td>-0.78%</td>\n",
              "      <td>57.29%</td>\n",
              "      <td>29.90%</td>\n",
              "      <td>21.61%</td>\n",
              "    </tr>\n",
              "    <tr>\n",
              "      <th>MSRP</th>\n",
              "      <td>0.918</td>\n",
              "      <td>0.99</td>\n",
              "      <td>31.71%</td>\n",
              "      <td>24.07%</td>\n",
              "      <td>37.81%</td>\n",
              "      <td>24.90%</td>\n",
              "    </tr>\n",
              "    <tr>\n",
              "      <th>GMVP</th>\n",
              "      <td>-0.0296</td>\n",
              "      <td>2.75</td>\n",
              "      <td>-4.06%</td>\n",
              "      <td>66.30%</td>\n",
              "      <td>25.98%</td>\n",
              "      <td>19.18%</td>\n",
              "    </tr>\n",
              "    <tr>\n",
              "      <th>mean-CVaR</th>\n",
              "      <td>0.237</td>\n",
              "      <td>2.25</td>\n",
              "      <td>2.80%</td>\n",
              "      <td>52.37%</td>\n",
              "      <td>27.37%</td>\n",
              "      <td>19.59%</td>\n",
              "    </tr>\n",
              "    <tr>\n",
              "      <th>mean-max DD</th>\n",
              "      <td>0.381</td>\n",
              "      <td>2.26</td>\n",
              "      <td>7.26%</td>\n",
              "      <td>57.09%</td>\n",
              "      <td>30.76%</td>\n",
              "      <td>20.99%</td>\n",
              "    </tr>\n",
              "    <tr>\n",
              "      <th>BL</th>\n",
              "      <td>0.641</td>\n",
              "      <td>2.67</td>\n",
              "      <td>15.28%</td>\n",
              "      <td>65.26%</td>\n",
              "      <td>28.46%</td>\n",
              "      <td>19.56%</td>\n",
              "    </tr>\n",
              "  </tbody>\n",
              "</table>\n",
              "</div>\n",
              "    <div class=\"colab-df-buttons\">\n",
              "\n",
              "  <div class=\"colab-df-container\">\n",
              "    <button class=\"colab-df-convert\" onclick=\"convertToInteractive('df-e0ae7ff4-eb2e-4d77-966c-78658e64c2e0')\"\n",
              "            title=\"Convert this dataframe to an interactive table.\"\n",
              "            style=\"display:none;\">\n",
              "\n",
              "  <svg xmlns=\"http://www.w3.org/2000/svg\" height=\"24px\" viewBox=\"0 -960 960 960\">\n",
              "    <path d=\"M120-120v-720h720v720H120Zm60-500h600v-160H180v160Zm220 220h160v-160H400v160Zm0 220h160v-160H400v160ZM180-400h160v-160H180v160Zm440 0h160v-160H620v160ZM180-180h160v-160H180v160Zm440 0h160v-160H620v160Z\"/>\n",
              "  </svg>\n",
              "    </button>\n",
              "\n",
              "  <style>\n",
              "    .colab-df-container {\n",
              "      display:flex;\n",
              "      gap: 12px;\n",
              "    }\n",
              "\n",
              "    .colab-df-convert {\n",
              "      background-color: #E8F0FE;\n",
              "      border: none;\n",
              "      border-radius: 50%;\n",
              "      cursor: pointer;\n",
              "      display: none;\n",
              "      fill: #1967D2;\n",
              "      height: 32px;\n",
              "      padding: 0 0 0 0;\n",
              "      width: 32px;\n",
              "    }\n",
              "\n",
              "    .colab-df-convert:hover {\n",
              "      background-color: #E2EBFA;\n",
              "      box-shadow: 0px 1px 2px rgba(60, 64, 67, 0.3), 0px 1px 3px 1px rgba(60, 64, 67, 0.15);\n",
              "      fill: #174EA6;\n",
              "    }\n",
              "\n",
              "    .colab-df-buttons div {\n",
              "      margin-bottom: 4px;\n",
              "    }\n",
              "\n",
              "    [theme=dark] .colab-df-convert {\n",
              "      background-color: #3B4455;\n",
              "      fill: #D2E3FC;\n",
              "    }\n",
              "\n",
              "    [theme=dark] .colab-df-convert:hover {\n",
              "      background-color: #434B5C;\n",
              "      box-shadow: 0px 1px 3px 1px rgba(0, 0, 0, 0.15);\n",
              "      filter: drop-shadow(0px 1px 2px rgba(0, 0, 0, 0.3));\n",
              "      fill: #FFFFFF;\n",
              "    }\n",
              "  </style>\n",
              "\n",
              "    <script>\n",
              "      const buttonEl =\n",
              "        document.querySelector('#df-e0ae7ff4-eb2e-4d77-966c-78658e64c2e0 button.colab-df-convert');\n",
              "      buttonEl.style.display =\n",
              "        google.colab.kernel.accessAllowed ? 'block' : 'none';\n",
              "\n",
              "      async function convertToInteractive(key) {\n",
              "        const element = document.querySelector('#df-e0ae7ff4-eb2e-4d77-966c-78658e64c2e0');\n",
              "        const dataTable =\n",
              "          await google.colab.kernel.invokeFunction('convertToInteractive',\n",
              "                                                    [key], {});\n",
              "        if (!dataTable) return;\n",
              "\n",
              "        const docLinkHtml = 'Like what you see? Visit the ' +\n",
              "          '<a target=\"_blank\" href=https://colab.research.google.com/notebooks/data_table.ipynb>data table notebook</a>'\n",
              "          + ' to learn more about interactive tables.';\n",
              "        element.innerHTML = '';\n",
              "        dataTable['output_type'] = 'display_data';\n",
              "        await google.colab.output.renderOutput(dataTable, element);\n",
              "        const docLink = document.createElement('div');\n",
              "        docLink.innerHTML = docLinkHtml;\n",
              "        element.appendChild(docLink);\n",
              "      }\n",
              "    </script>\n",
              "  </div>\n",
              "\n",
              "\n",
              "<div id=\"df-0f49769f-2c8a-4c03-a301-244e1a21d237\">\n",
              "  <button class=\"colab-df-quickchart\" onclick=\"quickchart('df-0f49769f-2c8a-4c03-a301-244e1a21d237')\"\n",
              "            title=\"Suggest charts\"\n",
              "            style=\"display:none;\">\n",
              "\n",
              "<svg xmlns=\"http://www.w3.org/2000/svg\" height=\"24px\"viewBox=\"0 0 24 24\"\n",
              "     width=\"24px\">\n",
              "    <g>\n",
              "        <path d=\"M19 3H5c-1.1 0-2 .9-2 2v14c0 1.1.9 2 2 2h14c1.1 0 2-.9 2-2V5c0-1.1-.9-2-2-2zM9 17H7v-7h2v7zm4 0h-2V7h2v10zm4 0h-2v-4h2v4z\"/>\n",
              "    </g>\n",
              "</svg>\n",
              "  </button>\n",
              "\n",
              "<style>\n",
              "  .colab-df-quickchart {\n",
              "      --bg-color: #E8F0FE;\n",
              "      --fill-color: #1967D2;\n",
              "      --hover-bg-color: #E2EBFA;\n",
              "      --hover-fill-color: #174EA6;\n",
              "      --disabled-fill-color: #AAA;\n",
              "      --disabled-bg-color: #DDD;\n",
              "  }\n",
              "\n",
              "  [theme=dark] .colab-df-quickchart {\n",
              "      --bg-color: #3B4455;\n",
              "      --fill-color: #D2E3FC;\n",
              "      --hover-bg-color: #434B5C;\n",
              "      --hover-fill-color: #FFFFFF;\n",
              "      --disabled-bg-color: #3B4455;\n",
              "      --disabled-fill-color: #666;\n",
              "  }\n",
              "\n",
              "  .colab-df-quickchart {\n",
              "    background-color: var(--bg-color);\n",
              "    border: none;\n",
              "    border-radius: 50%;\n",
              "    cursor: pointer;\n",
              "    display: none;\n",
              "    fill: var(--fill-color);\n",
              "    height: 32px;\n",
              "    padding: 0;\n",
              "    width: 32px;\n",
              "  }\n",
              "\n",
              "  .colab-df-quickchart:hover {\n",
              "    background-color: var(--hover-bg-color);\n",
              "    box-shadow: 0 1px 2px rgba(60, 64, 67, 0.3), 0 1px 3px 1px rgba(60, 64, 67, 0.15);\n",
              "    fill: var(--button-hover-fill-color);\n",
              "  }\n",
              "\n",
              "  .colab-df-quickchart-complete:disabled,\n",
              "  .colab-df-quickchart-complete:disabled:hover {\n",
              "    background-color: var(--disabled-bg-color);\n",
              "    fill: var(--disabled-fill-color);\n",
              "    box-shadow: none;\n",
              "  }\n",
              "\n",
              "  .colab-df-spinner {\n",
              "    border: 2px solid var(--fill-color);\n",
              "    border-color: transparent;\n",
              "    border-bottom-color: var(--fill-color);\n",
              "    animation:\n",
              "      spin 1s steps(1) infinite;\n",
              "  }\n",
              "\n",
              "  @keyframes spin {\n",
              "    0% {\n",
              "      border-color: transparent;\n",
              "      border-bottom-color: var(--fill-color);\n",
              "      border-left-color: var(--fill-color);\n",
              "    }\n",
              "    20% {\n",
              "      border-color: transparent;\n",
              "      border-left-color: var(--fill-color);\n",
              "      border-top-color: var(--fill-color);\n",
              "    }\n",
              "    30% {\n",
              "      border-color: transparent;\n",
              "      border-left-color: var(--fill-color);\n",
              "      border-top-color: var(--fill-color);\n",
              "      border-right-color: var(--fill-color);\n",
              "    }\n",
              "    40% {\n",
              "      border-color: transparent;\n",
              "      border-right-color: var(--fill-color);\n",
              "      border-top-color: var(--fill-color);\n",
              "    }\n",
              "    60% {\n",
              "      border-color: transparent;\n",
              "      border-right-color: var(--fill-color);\n",
              "    }\n",
              "    80% {\n",
              "      border-color: transparent;\n",
              "      border-right-color: var(--fill-color);\n",
              "      border-bottom-color: var(--fill-color);\n",
              "    }\n",
              "    90% {\n",
              "      border-color: transparent;\n",
              "      border-bottom-color: var(--fill-color);\n",
              "    }\n",
              "  }\n",
              "</style>\n",
              "\n",
              "  <script>\n",
              "    async function quickchart(key) {\n",
              "      const quickchartButtonEl =\n",
              "        document.querySelector('#' + key + ' button');\n",
              "      quickchartButtonEl.disabled = true;  // To prevent multiple clicks.\n",
              "      quickchartButtonEl.classList.add('colab-df-spinner');\n",
              "      try {\n",
              "        const charts = await google.colab.kernel.invokeFunction(\n",
              "            'suggestCharts', [key], {});\n",
              "      } catch (error) {\n",
              "        console.error('Error during call to suggestCharts:', error);\n",
              "      }\n",
              "      quickchartButtonEl.classList.remove('colab-df-spinner');\n",
              "      quickchartButtonEl.classList.add('colab-df-quickchart-complete');\n",
              "    }\n",
              "    (() => {\n",
              "      let quickchartButtonEl =\n",
              "        document.querySelector('#df-0f49769f-2c8a-4c03-a301-244e1a21d237 button');\n",
              "      quickchartButtonEl.style.display =\n",
              "        google.colab.kernel.accessAllowed ? 'block' : 'none';\n",
              "    })();\n",
              "  </script>\n",
              "</div>\n",
              "    </div>\n",
              "  </div>\n"
            ],
            "application/vnd.google.colaboratory.intrinsic+json": {
              "type": "dataframe",
              "variable_name": "res",
              "summary": "{\n  \"name\": \"res\",\n  \"rows\": 6,\n  \"fields\": [\n    {\n      \"column\": \"Sharpe ratio (in-sample)\",\n      \"properties\": {\n        \"dtype\": \"string\",\n        \"num_unique_values\": 6,\n        \"samples\": [\n          \"0.123\",\n          \"0.918\",\n          \"0.641\"\n        ],\n        \"semantic_type\": \"\",\n        \"description\": \"\"\n      }\n    },\n    {\n      \"column\": \"Sharpe ratio (out-of-sample)\",\n      \"properties\": {\n        \"dtype\": \"string\",\n        \"num_unique_values\": 6,\n        \"samples\": [\n          \"2.21\",\n          \"0.99\",\n          \"2.67\"\n        ],\n        \"semantic_type\": \"\",\n        \"description\": \"\"\n      }\n    },\n    {\n      \"column\": \"Annual return (in-sample)\",\n      \"properties\": {\n        \"dtype\": \"string\",\n        \"num_unique_values\": 6,\n        \"samples\": [\n          \"-0.78%\",\n          \"31.71%\",\n          \"15.28%\"\n        ],\n        \"semantic_type\": \"\",\n        \"description\": \"\"\n      }\n    },\n    {\n      \"column\": \"Annual return (out-of-sample)\",\n      \"properties\": {\n        \"dtype\": \"string\",\n        \"num_unique_values\": 6,\n        \"samples\": [\n          \"57.29%\",\n          \"24.07%\",\n          \"65.26%\"\n        ],\n        \"semantic_type\": \"\",\n        \"description\": \"\"\n      }\n    },\n    {\n      \"column\": \"Annual volatility (in-sample)\",\n      \"properties\": {\n        \"dtype\": \"string\",\n        \"num_unique_values\": 6,\n        \"samples\": [\n          \"29.90%\",\n          \"37.81%\",\n          \"28.46%\"\n        ],\n        \"semantic_type\": \"\",\n        \"description\": \"\"\n      }\n    },\n    {\n      \"column\": \"Annual volatility (out-of-sample)\",\n      \"properties\": {\n        \"dtype\": \"string\",\n        \"num_unique_values\": 6,\n        \"samples\": [\n          \"21.61%\",\n          \"24.90%\",\n          \"19.56%\"\n        ],\n        \"semantic_type\": \"\",\n        \"description\": \"\"\n      }\n    }\n  ]\n}"
            }
          },
          "metadata": {},
          "execution_count": 104
        }
      ]
    }
  ]
}